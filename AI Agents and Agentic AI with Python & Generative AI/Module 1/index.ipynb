{
  "cells": [
    {
      "cell_type": "markdown",
      "metadata": {
        "id": "view-in-github",
        "colab_type": "text"
      },
      "source": [
        "<a href=\"https://colab.research.google.com/github/AdnanMulla/ai-courses/blob/module-1/AI%20Agents%20and%20Agentic%20AI%20with%20Python%20%26%20Generative%20AI/Module%201/index.ipynb\" target=\"_parent\"><img src=\"https://colab.research.google.com/assets/colab-badge.svg\" alt=\"Open In Colab\"/></a>"
      ]
    },
    {
      "cell_type": "code",
      "execution_count": 1,
      "metadata": {
        "id": "KEYrzG2vB8Ip"
      },
      "outputs": [],
      "source": [
        "!!pip install litellm\n",
        "\n",
        "# Important!!!\n",
        "#\n",
        "# <---- Set your 'GEMINI_API_KEY' as a secret over there with the \"key\" icon\n",
        "#\n",
        "#\n",
        "import os\n",
        "from google.colab import userdata\n",
        "api_key = userdata.get('GEMINI_API_KEY')\n",
        "os.environ[\"GEMINI_API_KEY\"] = api_key"
      ]
    },
    {
      "cell_type": "markdown",
      "source": [
        "Below is our first API interaction with LLM."
      ],
      "metadata": {
        "id": "cPztM8U1WzC_"
      }
    },
    {
      "cell_type": "code",
      "execution_count": 2,
      "metadata": {
        "colab": {
          "base_uri": "https://localhost:8080/"
        },
        "id": "Mwe2eeOQB0cC",
        "outputId": "325e20a3-fc20-4e66-8d06-8ae3bff98137"
      },
      "outputs": [
        {
          "output_type": "stream",
          "name": "stdout",
          "text": [
            "START\n",
            "```python\n",
            "def swap_keys_values(d):\n",
            "    \"\"\"Swaps the keys and values in a given dictionary.\n",
            "\n",
            "    Args:\n",
            "        d: A dictionary with unique values.\n",
            "\n",
            "    Returns:\n",
            "        A new dictionary with keys and values swapped.\n",
            "    \"\"\"\n",
            "    return {v: k for k, v in d.items()}\n",
            "```\n",
            "END\n"
          ]
        }
      ],
      "source": [
        "from litellm import completion\n",
        "from typing import List, Dict\n",
        "import json\n",
        "\n",
        "print(\"START\")\n",
        "\n",
        "def generate_response(messages: List[Dict]) -> str:\n",
        "    \"\"\"Call LLM to get response\"\"\"\n",
        "    response = completion(\n",
        "      model=\"gemini/gemini-2.0-flash\",\n",
        "      messages=messages\n",
        "    )\n",
        "    return response.choices[0].message.content\n",
        "\n",
        "code_spec = {\n",
        "    'name': 'swap_keys_values',\n",
        "    'description': 'Swaps the keys and values in a given dictionary.',\n",
        "    'params': {\n",
        "        'd': 'A dictionary with unique values.'\n",
        "    },\n",
        "}\n",
        "\n",
        "messages = [\n",
        "    {\"role\": \"system\",\n",
        "     \"content\": \"You are an expert software engineer that writes clean functional code. You always document your functions.\"},\n",
        "    {\"role\": \"user\", \"content\": f\"Please implement: {json.dumps(code_spec)}\"},\n",
        "    # {\"role\": \"user\", \"content\": f\"Can you please shorten the description?\"}\n",
        "]\n",
        "\n",
        "\n",
        "response = generate_response(messages)\n",
        "print(response)\n",
        "print(\"END\")"
      ]
    },
    {
      "cell_type": "code",
      "execution_count": 4,
      "metadata": {
        "colab": {
          "base_uri": "https://localhost:8080/"
        },
        "id": "8oAzqr0HUtT4",
        "outputId": "58b645b8-c3de-469d-984f-09bc4a8800b2"
      },
      "outputs": [
        {
          "output_type": "stream",
          "name": "stderr",
          "text": [
            "<>:36: SyntaxWarning: invalid escape sequence '\\`'\n",
            "<>:36: SyntaxWarning: invalid escape sequence '\\`'\n",
            "<>:44: SyntaxWarning: invalid escape sequence '\\`'\n",
            "<>:44: SyntaxWarning: invalid escape sequence '\\`'\n",
            "<>:45: SyntaxWarning: invalid escape sequence '\\`'\n",
            "<>:36: SyntaxWarning: invalid escape sequence '\\`'\n",
            "<>:36: SyntaxWarning: invalid escape sequence '\\`'\n",
            "<>:44: SyntaxWarning: invalid escape sequence '\\`'\n",
            "<>:44: SyntaxWarning: invalid escape sequence '\\`'\n",
            "<>:45: SyntaxWarning: invalid escape sequence '\\`'\n",
            "/tmp/ipython-input-1313654286.py:36: SyntaxWarning: invalid escape sequence '\\`'\n",
            "  messages.append({\"role\": \"assistant\", \"content\": \"\\`\\`\\`python\\n\\n\"+initial_function+\"\\n\\n\\`\\`\\`\"})\n",
            "/tmp/ipython-input-1313654286.py:36: SyntaxWarning: invalid escape sequence '\\`'\n",
            "  messages.append({\"role\": \"assistant\", \"content\": \"\\`\\`\\`python\\n\\n\"+initial_function+\"\\n\\n\\`\\`\\`\"})\n",
            "/tmp/ipython-input-1313654286.py:44: SyntaxWarning: invalid escape sequence '\\`'\n",
            "  messages.append({\"role\": \"assistant\", \"content\": \"\\`\\`\\`python\\n\\n\"+initial_function+\"\\n\\n\\`\\`\\`\"})\n",
            "/tmp/ipython-input-1313654286.py:44: SyntaxWarning: invalid escape sequence '\\`'\n",
            "  messages.append({\"role\": \"assistant\", \"content\": \"\\`\\`\\`python\\n\\n\"+initial_function+\"\\n\\n\\`\\`\\`\"})\n",
            "/tmp/ipython-input-1313654286.py:45: SyntaxWarning: invalid escape sequence '\\`'\n",
            "  messages.append({\"role\": \"user\", \"content\": \"Add unittest test cases for this function, including tests for basic functionality, edge cases, error cases, and various input scenarios. Only generate the testcases. Output the code in a \\`\\`\\`python code block\\`\\`\\`.\"})\n"
          ]
        },
        {
          "output_type": "stream",
          "name": "stdout",
          "text": [
            "What kind of function would you like to create?\n",
            "Eg. Function that generate fibonacci sequence\n",
            "Your description: calculate max number in array\n",
            "Creating function based on following description:  calculate max number in array\n",
            "initial_function: \n",
            "\n",
            "def find_max(arr):\n",
            "  \"\"\"\n",
            "  Finds the maximum number in an array.\n",
            "\n",
            "  Args:\n",
            "    arr: A list of numbers.\n",
            "\n",
            "  Returns:\n",
            "    The maximum number in the array, or None if the array is empty.\n",
            "  \"\"\"\n",
            "  if not arr:\n",
            "    return None\n",
            "  max_num = arr[0]\n",
            "  for num in arr:\n",
            "    if num > max_num:\n",
            "      max_num = num\n",
            "  return max_num\n",
            "second_function: \n",
            "\n",
            "def find_max(arr):\n",
            "  \"\"\"\n",
            "  Finds the maximum number in an array.\n",
            "\n",
            "  Description:\n",
            "    This function iterates through the input array and identifies the largest numerical value.\n",
            "    It handles empty arrays gracefully by returning None.\n",
            "\n",
            "  Parameters:\n",
            "    arr (list of numbers): A list containing numerical values.  The numbers can be integers or floats.\n",
            "\n",
            "  Returns:\n",
            "    number: The maximum number found in the array.\n",
            "    Returns None if the input array is empty.\n",
            "\n",
            "  Examples:\n",
            "    >>> find_max([1, 2, 3, 4, 5])\n",
            "    5\n",
            "    >>> find_max([-1, -5, 0, 5, 2])\n",
            "    5\n",
            "    >>> find_max([1.5, 2.7, 0.3])\n",
            "    2.7\n",
            "    >>> find_max([])\n",
            "    None\n",
            "\n",
            "  Edge Cases:\n",
            "    - Empty array: Returns None.\n",
            "    - Array with only one element: Returns that element.\n",
            "    - Array with mixed positive and negative numbers: Correctly identifies the largest, including zero.\n",
            "    - Array with all negative numbers: Returns the least negative number (closest to zero).\n",
            "    - Array with floats: Returns the largest float.\n",
            "  \"\"\"\n",
            "  if not arr:\n",
            "    return None\n",
            "  max_num = arr[0]\n",
            "  for num in arr:\n",
            "    if num > max_num:\n",
            "      max_num = num\n",
            "  return max_num\n",
            "third_function\n",
            "\n",
            "import unittest\n",
            "\n",
            "class TestFindMax(unittest.TestCase):\n",
            "\n",
            "    def test_empty_array(self):\n",
            "        self.assertIsNone(find_max([]), \"Should return None for an empty array\")\n",
            "\n",
            "    def test_single_element_array(self):\n",
            "        self.assertEqual(find_max([5]), 5, \"Should return the element itself for a single-element array\")\n",
            "\n",
            "    def test_positive_numbers(self):\n",
            "        self.assertEqual(find_max([1, 5, 2, 8, 3]), 8, \"Should return the maximum number in the array\")\n",
            "\n",
            "    def test_negative_numbers(self):\n",
            "        self.assertEqual(find_max([-1, -5, -2, -8, -3]), -1, \"Should return the maximum number in the array (negative numbers)\")\n",
            "\n",
            "    def test_mixed_positive_and_negative_numbers(self):\n",
            "        self.assertEqual(find_max([-1, 5, -2, 8, -3]), 8, \"Should return the maximum number in the array (mixed positive and negative)\")\n",
            "\n",
            "    def test_duplicate_maximum_number(self):\n",
            "        self.assertEqual(find_max([1, 5, 2, 8, 3, 8]), 8, \"Should return the maximum number even if it appears multiple times\")\n",
            "\n",
            "    def test_all_numbers_same(self):\n",
            "        self.assertEqual(find_max([5, 5, 5, 5, 5]), 5, \"Should return the number if all elements are the same\")\n",
            "\n",
            "    def test_large_numbers(self):\n",
            "        self.assertEqual(find_max([10**6, 10**7, 10**5]), 10**7, \"Should handle large numbers correctly\")\n",
            "\n",
            "    def test_floats(self):\n",
            "        self.assertEqual(find_max([1.5, 2.7, 0.3, 4.1]), 4.1, \"Should correctly handle floats.\")\n",
            "\n",
            "    def test_mixed_ints_and_floats(self):\n",
            "         self.assertEqual(find_max([1, 2.5, 3, 1.8]), 3, \"Should correctly handle mixed ints and floats\")\n"
          ]
        }
      ],
      "source": [
        "# Building a quasi-agent - simple programmatic prompt based agent\n",
        "\n",
        "# First Prompt\n",
        "\n",
        "def extract_code_block(response: str) -> str:\n",
        "    \"\"\"Extract code block from response\"\"\"\n",
        "    if not '```' in response:\n",
        "        return response\n",
        "\n",
        "    code_block = response.split('```')[1].strip()\n",
        "    if code_block.startswith(\"python\"):\n",
        "        code_block = code_block[6:]\n",
        "\n",
        "    return code_block\n",
        "\n",
        "function_description = \"\"\n",
        "def get_user_input():\n",
        "  print(\"What kind of function would you like to create?\")\n",
        "  print(\"Eg. Function that generate fibonacci sequence\")\n",
        "  print(\"Your description: \", end=\"\")\n",
        "  description = input().strip()\n",
        "  print(\"Creating function based on following description: \", description)\n",
        "  return description\n",
        "\n",
        "function_description = get_user_input()\n",
        "\n",
        "messages = [\n",
        "    { \"role\": \"system\", \"content\": \"You are a Python expert helping to develop a function.\"},\n",
        "    {\"role\": \"user\", \"content\": f'Write a very small Python function that {function_description}. Output the function in a ```python code block```'}\n",
        "]\n",
        "\n",
        "initial_function = extract_code_block(generate_response(messages))\n",
        "print(\"=== Initial_function ===\")\n",
        "print(initial_function)\n",
        "\n",
        "messages.append({\"role\": \"assistant\", \"content\": \"\\`\\`\\`python\\n\\n\"+initial_function+\"\\n\\n\\`\\`\\`\"})\n",
        "messages.append({\"role\": \"user\", \"content\": \"Add comprehensive documentation to this function, including description, parameters, return value, examples, and edge cases. Output the function in a ```python code block```.\"})\n",
        "\n",
        "second_function = extract_code_block(generate_response(messages))\n",
        "\n",
        "print(\"=== Second_function ===\")\n",
        "print(second_function)\n",
        "\n",
        "messages.append({\"role\": \"assistant\", \"content\": \"\\`\\`\\`python\\n\\n\"+initial_function+\"\\n\\n\\`\\`\\`\"})\n",
        "messages.append({\"role\": \"user\", \"content\": \"Add unittest test cases for this function, including tests for basic functionality, edge cases, error cases, and various input scenarios. Only generate the testcases. Output the code in a \\`\\`\\`python code block\\`\\`\\`.\"})\n",
        "\n",
        "third_function = extract_code_block(generate_response(messages))\n",
        "\n",
        "print(\"=== Third_function ===\")\n",
        "print(third_function)\n",
        "\n",
        "filename = function_description.lower()\n",
        "filename = \"\".join(c for c in filename if c.isalnum() or c.isspace())\n",
        "filename = filename.replace(\" \", \"_\")[:30] + \".py\"\n",
        "\n",
        "with open(filename, \"w\") as f:\n",
        "  f.write(second_function + \"\\n\\n\" + third_function)\n"
      ]
    },
    {
      "cell_type": "code",
      "source": [
        "#"
      ],
      "metadata": {
        "id": "QkM3_vI8k8EB"
      },
      "execution_count": null,
      "outputs": []
    },
    {
      "cell_type": "code",
      "source": [],
      "metadata": {
        "id": "Z4ecoD-FijaC"
      },
      "execution_count": null,
      "outputs": []
    }
  ],
  "metadata": {
    "colab": {
      "provenance": [],
      "include_colab_link": true
    },
    "kernelspec": {
      "display_name": "Python 3",
      "name": "python3"
    },
    "language_info": {
      "name": "python"
    }
  },
  "nbformat": 4,
  "nbformat_minor": 0
}